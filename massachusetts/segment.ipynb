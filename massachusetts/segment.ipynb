{
 "cells": [
  {
   "cell_type": "code",
   "execution_count": 127,
   "id": "ba5be2f3",
   "metadata": {},
   "outputs": [],
   "source": [
    "import os\n",
    "import pandas as pd\n",
    "import numpy as np\n",
    "import matplotlib.pyplot as plt\n",
    "from PIL import Image\n",
    "from tqdm import tqdm\n",
    "import torch\n",
    "import torch.nn as nn\n",
    "import torch.optim as optim\n",
    "import torch.nn.functional as F\n",
    "from torch.utils.data import Dataset, DataLoader\n",
    "from torchvision import transforms\n",
    "from sklearn.metrics import confusion_matrix, accuracy_score"
   ]
  },
  {
   "cell_type": "markdown",
   "id": "8523d36c",
   "metadata": {},
   "source": [
    "Конфиг"
   ]
  },
  {
   "cell_type": "code",
   "execution_count": 128,
   "id": "065782d3",
   "metadata": {},
   "outputs": [],
   "source": [
    "class Config:\n",
    "    DATA_DIR = './dataset'\n",
    "    METADATA_PATH = os.path.join(DATA_DIR, 'metadata.csv')\n",
    "    BATCH_SIZE = 8\n",
    "    EPOCHS = 20\n",
    "    LR = 0.001\n",
    "    IMG_SIZE = (256, 256)\n",
    "    DEVICE = torch.device('cuda:1' if torch.cuda.is_available() else 'cpu')\n",
    "    NUM_CLASSES = 2  # фон и дороги"
   ]
  },
  {
   "cell_type": "markdown",
   "id": "6af5c567",
   "metadata": {},
   "source": [
    "Датасет и загрузчики"
   ]
  },
  {
   "cell_type": "code",
   "execution_count": 129,
   "id": "9b15437b",
   "metadata": {},
   "outputs": [],
   "source": [
    "class RoadsDataset(Dataset):\n",
    "    def __init__(self, metadata_df, base_dir, transform=None, target_size=(256, 256)):\n",
    "        self.metadata = metadata_df\n",
    "        self.base_dir = base_dir\n",
    "        self.transform = transform\n",
    "        self.target_size = target_size\n",
    "\n",
    "    def __len__(self):\n",
    "        return len(self.metadata)\n",
    "        \n",
    "    def __getitem__(self, idx):\n",
    "        row = self.metadata.iloc[idx]\n",
    "        img_path = self._resolve_path(row['tiff_image_path'])\n",
    "        label_path = self._resolve_path(row['tif_label_path'], is_label=True)\n",
    "        \n",
    "        image = Image.open(img_path).convert('RGB')\n",
    "        label = Image.open(label_path).convert('RGB')\n",
    "        \n",
    "        # Ресайзим и изображение и маску\n",
    "        resize_transform = transforms.Resize(self.target_size)\n",
    "        image = resize_transform(image)\n",
    "        label = resize_transform(label)\n",
    "        \n",
    "        # Преобразование в бинарную маску\n",
    "        label_np = np.array(label)\n",
    "        mask = np.zeros(label_np.shape[:2], dtype=np.uint8)\n",
    "        mask[np.all(label_np == [255, 255, 255], axis=-1)] = 1\n",
    "        \n",
    "        if self.transform:\n",
    "            image = self.transform(image)\n",
    "            mask = torch.from_numpy(mask).long()\n",
    "        \n",
    "        return image, mask\n",
    "    \n",
    "    def _resolve_path(self, rel_path, is_label=False):\n",
    "        path = os.path.join(self.base_dir, rel_path)\n",
    "        if os.path.exists(path):\n",
    "            return path\n",
    "        \n",
    "        # Пробуем альтернативные расширения\n",
    "        if is_label:\n",
    "            alt_path = path.replace('.tif', '.tiff')\n",
    "        else:\n",
    "            alt_path = path.replace('.tiff', '.tif')\n",
    "            \n",
    "        if os.path.exists(alt_path):\n",
    "            return alt_path\n",
    "        \n",
    "        raise FileNotFoundError(f\"Neither {path} nor {alt_path} found\")"
   ]
  },
  {
   "cell_type": "markdown",
   "id": "13d7b545",
   "metadata": {},
   "source": [
    "U-Net"
   ]
  },
  {
   "cell_type": "code",
   "execution_count": 130,
   "id": "37d351b5",
   "metadata": {},
   "outputs": [],
   "source": [
    "class DoubleConv(nn.Module):\n",
    "    \"\"\"(convolution => [BN] => ReLU) * 2\"\"\"\n",
    "    def __init__(self, in_channels, out_channels):\n",
    "        super().__init__()\n",
    "        self.double_conv = nn.Sequential(\n",
    "            nn.Conv2d(in_channels, out_channels, kernel_size=3, padding=1),\n",
    "            nn.BatchNorm2d(out_channels),\n",
    "            nn.ReLU(inplace=True),\n",
    "            nn.Conv2d(out_channels, out_channels, kernel_size=3, padding=1),\n",
    "            nn.BatchNorm2d(out_channels),\n",
    "            nn.ReLU(inplace=True)\n",
    "        )\n",
    "\n",
    "    def forward(self, x):\n",
    "        return self.double_conv(x)"
   ]
  },
  {
   "cell_type": "code",
   "execution_count": 131,
   "id": "eb2d8bc4",
   "metadata": {},
   "outputs": [],
   "source": [
    "class Down(nn.Module):\n",
    "    \"\"\"Downscaling with maxpool then double conv\"\"\"\n",
    "    def __init__(self, in_channels, out_channels):\n",
    "        super().__init__()\n",
    "        self.maxpool_conv = nn.Sequential(\n",
    "            nn.MaxPool2d(2),\n",
    "            DoubleConv(in_channels, out_channels)\n",
    "        )\n",
    "\n",
    "    def forward(self, x):\n",
    "        return self.maxpool_conv(x)"
   ]
  },
  {
   "cell_type": "code",
   "execution_count": 132,
   "id": "82316d33",
   "metadata": {},
   "outputs": [],
   "source": [
    "class OutConv(nn.Module):\n",
    "    def __init__(self, in_channels, out_channels):\n",
    "        super(OutConv, self).__init__()\n",
    "        self.conv = nn.Conv2d(in_channels, out_channels, kernel_size=1)\n",
    "\n",
    "    def forward(self, x):\n",
    "        return self.conv(x)"
   ]
  },
  {
   "cell_type": "code",
   "execution_count": 133,
   "id": "bb928c6f",
   "metadata": {},
   "outputs": [],
   "source": [
    "class Up(nn.Module):\n",
    "    \"\"\"Upscaling then double conv\"\"\"\n",
    "    def __init__(self, in_channels, out_channels, bilinear=True):\n",
    "        super().__init__()\n",
    "        if bilinear:\n",
    "            self.up = nn.Upsample(scale_factor=2, mode='bilinear', align_corners=True)\n",
    "        else:\n",
    "            self.up = nn.ConvTranspose2d(in_channels // 2, in_channels // 2, kernel_size=2, stride=2)\n",
    "        \n",
    "        self.conv = DoubleConv(in_channels, out_channels)\n",
    "\n",
    "    def forward(self, x1, x2):\n",
    "        x1 = self.up(x1)\n",
    "        # input is CHW\n",
    "        diffY = x2.size()[2] - x1.size()[2]\n",
    "        diffX = x2.size()[3] - x1.size()[3]\n",
    "\n",
    "        x1 = nn.functional.pad(x1, [diffX // 2, diffX - diffX // 2,\n",
    "                                    diffY // 2, diffY - diffY // 2])\n",
    "        x = torch.cat([x2, x1], dim=1)\n",
    "        return self.conv(x)"
   ]
  },
  {
   "cell_type": "code",
   "execution_count": 134,
   "id": "9bd06cd1",
   "metadata": {},
   "outputs": [],
   "source": [
    "class UNet(nn.Module):\n",
    "    def __init__(self, n_channels=3, n_classes=2, bilinear=True, output_size=(256, 256)):\n",
    "        super(UNet, self).__init__()\n",
    "        self.n_channels = n_channels\n",
    "        self.n_classes = n_classes\n",
    "        self.bilinear = bilinear\n",
    "        self.output_size = output_size\n",
    "\n",
    "        self.inc = DoubleConv(n_channels, 64)\n",
    "        self.down1 = Down(64, 128)\n",
    "        self.down2 = Down(128, 256)\n",
    "        self.down3 = Down(256, 512)\n",
    "        self.down4 = Down(512, 1024 // (2 if bilinear else 1))\n",
    "        self.up1 = Up(1024, 512 // (2 if bilinear else 1), bilinear)\n",
    "        self.up2 = Up(512, 256 // (2 if bilinear else 1), bilinear)\n",
    "        self.up3 = Up(256, 128 // (2 if bilinear else 1), bilinear)\n",
    "        self.up4 = Up(128, 64, bilinear)\n",
    "        self.outc = OutConv(64, n_classes)\n",
    "\n",
    "    def forward(self, x):\n",
    "        x1 = self.inc(x)\n",
    "        x2 = self.down1(x1)\n",
    "        x3 = self.down2(x2)\n",
    "        x4 = self.down3(x3)\n",
    "        x5 = self.down4(x4)\n",
    "        x = self.up1(x5, x4)\n",
    "        x = self.up2(x, x3)\n",
    "        x = self.up3(x, x2)\n",
    "        x = self.up4(x, x1)\n",
    "        logits = self.outc(x)\n",
    "\n",
    "        if logits.shape[2:] != self.output_size:\n",
    "            logits = F.interpolate(logits, size=self.output_size, mode='bilinear', align_corners=True)\n",
    "\n",
    "        return logits"
   ]
  },
  {
   "cell_type": "markdown",
   "id": "4ede19c4",
   "metadata": {},
   "source": [
    "Метрики"
   ]
  },
  {
   "cell_type": "code",
   "execution_count": 135,
   "id": "7cfe2d0d",
   "metadata": {},
   "outputs": [],
   "source": [
    "def calculate_iou(preds, labels):\n",
    "    labels_resized = F.interpolate(labels.unsqueeze(1).float(), \n",
    "                                 size=preds.shape[2:], \n",
    "                                 mode='nearest').squeeze(1).long()\n",
    "    \n",
    "    preds = torch.argmax(preds, dim=1)\n",
    "    intersection = (preds & labels_resized).float().sum()\n",
    "    union = (preds | labels_resized).float().sum()\n",
    "    return (intersection + 1e-6) / (union + 1e-6)\n",
    "\n",
    "\n",
    "def calculate_metrics(preds, labels):\n",
    "    preds = torch.argmax(preds, dim=1)\n",
    "    tn, fp, fn, tp = confusion_matrix(labels.cpu().numpy().flatten(),\n",
    "                                    preds.cpu().numpy().flatten(),\n",
    "                                    labels=[0, 1]).ravel()\n",
    "    accuracy = (tp + tn) / (tp + tn + fp + fn)\n",
    "    precision = tp / (tp + fp + 1e-6)\n",
    "    recall = tp / (tp + fn + 1e-6)\n",
    "    return accuracy, precision, recall"
   ]
  },
  {
   "cell_type": "markdown",
   "id": "3451c662",
   "metadata": {},
   "source": [
    "Инициализация"
   ]
  },
  {
   "cell_type": "code",
   "execution_count": 136,
   "id": "afcff46e",
   "metadata": {},
   "outputs": [],
   "source": [
    "def init_datasets():\n",
    "    metadata = pd.read_csv(Config.METADATA_PATH)\n",
    "    \n",
    "    transform = transforms.Compose([\n",
    "        transforms.Resize(Config.IMG_SIZE),\n",
    "        transforms.ToTensor(),\n",
    "        transforms.Normalize(mean=[0.485, 0.456, 0.406], std=[0.229, 0.224, 0.225]),\n",
    "    ])\n",
    "    \n",
    "    train_df = metadata[metadata['split'] == 'train']\n",
    "    val_df = metadata[metadata['split'] == 'val']\n",
    "    test_df = metadata[metadata['split'] == 'test']\n",
    "    \n",
    "    train_dataset = RoadsDataset(train_df, Config.DATA_DIR, transform, Config.IMG_SIZE)\n",
    "    val_dataset = RoadsDataset(val_df, Config.DATA_DIR, transform, Config.IMG_SIZE)\n",
    "    test_dataset = RoadsDataset(test_df, Config.DATA_DIR, transform, Config.IMG_SIZE)\n",
    "    \n",
    "    return (\n",
    "        train_dataset,\n",
    "        val_dataset,\n",
    "        test_dataset,\n",
    "        DataLoader(train_dataset, batch_size=Config.BATCH_SIZE, shuffle=True),\n",
    "        DataLoader(val_dataset, batch_size=Config.BATCH_SIZE),\n",
    "        DataLoader(test_dataset, batch_size=Config.BATCH_SIZE)\n",
    "    )"
   ]
  },
  {
   "cell_type": "markdown",
   "id": "b84dcbda",
   "metadata": {},
   "source": [
    "Обучение и оценка"
   ]
  },
  {
   "cell_type": "code",
   "execution_count": 137,
   "id": "3468cff8",
   "metadata": {},
   "outputs": [],
   "source": [
    "def train_model():\n",
    "    # Инициализация\n",
    "    (train_dataset, val_dataset, test_dataset,\n",
    "     train_loader, val_loader, test_loader) = init_datasets()\n",
    "    \n",
    "    Config.IMG_SIZE = (256, 256)  # Желаемый размер изображений\n",
    "    model = UNet(output_size=Config.IMG_SIZE).to(Config.DEVICE)\n",
    "    criterion = nn.CrossEntropyLoss()\n",
    "    optimizer = optim.Adam(model.parameters(), lr=Config.LR)\n",
    "    \n",
    "    # История для графиков\n",
    "    history = {\n",
    "        'train_loss': [], 'val_loss': [],\n",
    "        'train_iou': [], 'val_iou': [],\n",
    "        'train_acc': [], 'val_acc': [],\n",
    "        'test_metrics': None\n",
    "    }\n",
    "    \n",
    "    # Обучение\n",
    "    for epoch in range(Config.EPOCHS):\n",
    "        model.train()\n",
    "        epoch_train_loss, epoch_train_iou, epoch_train_acc = 0, 0, 0\n",
    "        \n",
    "        for images, masks in tqdm(train_loader, desc=f\"Epoch {epoch+1}/{Config.EPOCHS} [Train]\"):\n",
    "            images, masks = images.to(Config.DEVICE), masks.to(Config.DEVICE)\n",
    "            \n",
    "            optimizer.zero_grad()\n",
    "            outputs = model(images)\n",
    "            loss = criterion(outputs, masks)\n",
    "            loss.backward()\n",
    "            optimizer.step()\n",
    "            \n",
    "            # Метрики\n",
    "            iou = calculate_iou(outputs, masks)\n",
    "            acc, _, _ = calculate_metrics(outputs, masks)\n",
    "            \n",
    "            epoch_train_loss += loss.item()\n",
    "            epoch_train_iou += iou.item()\n",
    "            epoch_train_acc += acc\n",
    "        \n",
    "        # Валидация\n",
    "        model.eval()\n",
    "        epoch_val_loss, epoch_val_iou, epoch_val_acc = 0, 0, 0\n",
    "        \n",
    "        with torch.no_grad():\n",
    "            for images, masks in tqdm(val_loader, desc=f\"Epoch {epoch+1}/{Config.EPOCHS} [Val]\"):\n",
    "                images, masks = images.to(Config.DEVICE), masks.to(Config.DEVICE)\n",
    "                outputs = model(images)\n",
    "                \n",
    "                loss = criterion(outputs, masks)\n",
    "                iou = calculate_iou(outputs, masks)\n",
    "                acc, _, _ = calculate_metrics(outputs, masks)\n",
    "                \n",
    "                epoch_val_loss += loss.item()\n",
    "                epoch_val_iou += iou.item()\n",
    "                epoch_val_acc += acc\n",
    "        \n",
    "        # Сохранение метрик\n",
    "        history['train_loss'].append(epoch_train_loss / len(train_loader))\n",
    "        history['val_loss'].append(epoch_val_loss / len(val_loader))\n",
    "        history['train_iou'].append(epoch_train_iou / len(train_loader))\n",
    "        history['val_iou'].append(epoch_val_iou / len(val_loader))\n",
    "        history['train_acc'].append(epoch_train_acc / len(train_loader))\n",
    "        history['val_acc'].append(epoch_val_acc / len(val_loader))\n",
    "        \n",
    "        print(f\"\\nEpoch {epoch+1}/{Config.EPOCHS}:\")\n",
    "        print(f\"Train Loss: {history['train_loss'][-1]:.4f} | Val Loss: {history['val_loss'][-1]:.4f}\")\n",
    "        print(f\"Train IoU: {history['train_iou'][-1]:.4f} | Val IoU: {history['val_iou'][-1]:.4f}\")\n",
    "        print(f\"Train Acc: {history['train_acc'][-1]:.4f} | Val Acc: {history['val_acc'][-1]:.4f}\")\n",
    "    \n",
    "    # Тестирование\n",
    "    model.eval()\n",
    "    test_loss, test_iou, test_acc, test_prec, test_rec = 0, 0, 0, 0, 0\n",
    "    \n",
    "    with torch.no_grad():\n",
    "        for images, masks in tqdm(test_loader, desc=\"Testing\"):\n",
    "            images, masks = images.to(Config.DEVICE), masks.to(Config.DEVICE)\n",
    "            outputs = model(images)\n",
    "            \n",
    "            test_loss += criterion(outputs, masks).item()\n",
    "            test_iou += calculate_iou(outputs, masks).item()\n",
    "            \n",
    "            acc, prec, rec = calculate_metrics(outputs, masks)\n",
    "            test_acc += acc\n",
    "            test_prec += prec\n",
    "            test_rec += rec\n",
    "    \n",
    "    test_loss /= len(test_loader)\n",
    "    test_iou /= len(test_loader)\n",
    "    test_acc /= len(test_loader)\n",
    "    test_prec /= len(test_loader)\n",
    "    test_rec /= len(test_loader)\n",
    "    \n",
    "    history['test_metrics'] = {\n",
    "        'loss': test_loss,\n",
    "        'iou': test_iou,\n",
    "        'accuracy': test_acc,\n",
    "        'precision': test_prec,\n",
    "        'recall': test_rec\n",
    "    }\n",
    "    \n",
    "    print(\"\\nTest Results:\")\n",
    "    print(f\"Loss: {test_loss:.4f} | IoU: {test_iou:.4f}\")\n",
    "    print(f\"Accuracy: {test_acc:.4f} | Precision: {test_prec:.4f} | Recall: {test_rec:.4f}\")\n",
    "    \n",
    "    return model, history"
   ]
  },
  {
   "cell_type": "markdown",
   "id": "9b1317f6",
   "metadata": {},
   "source": [
    "Визуализация результатов"
   ]
  },
  {
   "cell_type": "code",
   "execution_count": 138,
   "id": "0b252b21",
   "metadata": {},
   "outputs": [],
   "source": [
    "def plot_results(history):\n",
    "    plt.figure(figsize=(18, 12))\n",
    "    \n",
    "    # График потерь\n",
    "    plt.subplot(2, 2, 1)\n",
    "    plt.plot(history['train_loss'], label='Train Loss')\n",
    "    plt.plot(history['val_loss'], label='Validation Loss')\n",
    "    plt.title('Training and Validation Loss')\n",
    "    plt.xlabel('Epoch')\n",
    "    plt.ylabel('Loss')\n",
    "    plt.legend()\n",
    "    \n",
    "    # График IoU\n",
    "    plt.subplot(2, 2, 2)\n",
    "    plt.plot(history['train_iou'], label='Train IoU')\n",
    "    plt.plot(history['val_iou'], label='Validation IoU')\n",
    "    plt.title('Training and Validation IoU')\n",
    "    plt.xlabel('Epoch')\n",
    "    plt.ylabel('IoU')\n",
    "    plt.legend()\n",
    "    \n",
    "    # График точности\n",
    "    plt.subplot(2, 2, 3)\n",
    "    plt.plot(history['train_acc'], label='Train Accuracy')\n",
    "    plt.plot(history['val_acc'], label='Validation Accuracy')\n",
    "    plt.title('Training and Validation Accuracy')\n",
    "    plt.xlabel('Epoch')\n",
    "    plt.ylabel('Accuracy')\n",
    "    plt.legend()\n",
    "    \n",
    "    # Тестовые метрики\n",
    "    plt.subplot(2, 2, 4)\n",
    "    test_metrics = history['test_metrics']\n",
    "    metrics = ['Accuracy', 'Precision', 'Recall', 'IoU']\n",
    "    values = [test_metrics['accuracy'], test_metrics['precision'], \n",
    "              test_metrics['recall'], test_metrics['iou']]\n",
    "    \n",
    "    plt.bar(metrics, values)\n",
    "    plt.title('Test Metrics')\n",
    "    plt.ylabel('Score')\n",
    "    \n",
    "    plt.tight_layout()\n",
    "    plt.show()\n"
   ]
  },
  {
   "cell_type": "code",
   "execution_count": 139,
   "id": "e88f1682",
   "metadata": {},
   "outputs": [
    {
     "name": "stdout",
     "output_type": "stream",
     "text": [
      "Using device: cuda:1\n"
     ]
    },
    {
     "name": "stderr",
     "output_type": "stream",
     "text": [
      "Epoch 1/20 [Train]: 100%|██████████| 139/139 [01:03<00:00,  2.18it/s]\n",
      "Epoch 1/20 [Val]: 100%|██████████| 2/2 [00:00<00:00,  2.88it/s]\n"
     ]
    },
    {
     "name": "stdout",
     "output_type": "stream",
     "text": [
      "\n",
      "Epoch 1/20:\n",
      "Train Loss: 0.0569 | Val Loss: 0.0096\n",
      "Train IoU: 0.0576 | Val IoU: 0.0000\n",
      "Train Acc: 0.9986 | Val Acc: 1.0000\n"
     ]
    },
    {
     "name": "stderr",
     "output_type": "stream",
     "text": [
      "Epoch 2/20 [Train]: 100%|██████████| 139/139 [01:03<00:00,  2.19it/s]\n",
      "Epoch 2/20 [Val]: 100%|██████████| 2/2 [00:00<00:00,  2.50it/s]\n"
     ]
    },
    {
     "name": "stdout",
     "output_type": "stream",
     "text": [
      "\n",
      "Epoch 2/20:\n",
      "Train Loss: 0.0050 | Val Loss: 0.0029\n",
      "Train IoU: 0.0791 | Val IoU: 0.0000\n",
      "Train Acc: 1.0000 | Val Acc: 1.0000\n"
     ]
    },
    {
     "name": "stderr",
     "output_type": "stream",
     "text": [
      "Epoch 3/20 [Train]: 100%|██████████| 139/139 [01:03<00:00,  2.19it/s]\n",
      "Epoch 3/20 [Val]: 100%|██████████| 2/2 [00:00<00:00,  2.94it/s]\n"
     ]
    },
    {
     "name": "stdout",
     "output_type": "stream",
     "text": [
      "\n",
      "Epoch 3/20:\n",
      "Train Loss: 0.0021 | Val Loss: 0.0015\n",
      "Train IoU: 0.1295 | Val IoU: 0.0000\n",
      "Train Acc: 1.0000 | Val Acc: 1.0000\n"
     ]
    },
    {
     "name": "stderr",
     "output_type": "stream",
     "text": [
      "Epoch 4/20 [Train]: 100%|██████████| 139/139 [01:03<00:00,  2.17it/s]\n",
      "Epoch 4/20 [Val]: 100%|██████████| 2/2 [00:00<00:00,  2.90it/s]\n"
     ]
    },
    {
     "name": "stdout",
     "output_type": "stream",
     "text": [
      "\n",
      "Epoch 4/20:\n",
      "Train Loss: 0.0013 | Val Loss: 0.0010\n",
      "Train IoU: 0.0791 | Val IoU: 0.0000\n",
      "Train Acc: 1.0000 | Val Acc: 1.0000\n"
     ]
    },
    {
     "name": "stderr",
     "output_type": "stream",
     "text": [
      "Epoch 5/20 [Train]: 100%|██████████| 139/139 [01:03<00:00,  2.18it/s]\n",
      "Epoch 5/20 [Val]: 100%|██████████| 2/2 [00:00<00:00,  2.90it/s]\n"
     ]
    },
    {
     "name": "stdout",
     "output_type": "stream",
     "text": [
      "\n",
      "Epoch 5/20:\n",
      "Train Loss: 0.0009 | Val Loss: 0.0008\n",
      "Train IoU: 0.0791 | Val IoU: 0.0000\n",
      "Train Acc: 1.0000 | Val Acc: 1.0000\n"
     ]
    },
    {
     "name": "stderr",
     "output_type": "stream",
     "text": [
      "Epoch 6/20 [Train]: 100%|██████████| 139/139 [01:03<00:00,  2.18it/s]\n",
      "Epoch 6/20 [Val]: 100%|██████████| 2/2 [00:00<00:00,  2.89it/s]\n"
     ]
    },
    {
     "name": "stdout",
     "output_type": "stream",
     "text": [
      "\n",
      "Epoch 6/20:\n",
      "Train Loss: 0.0007 | Val Loss: 0.0006\n",
      "Train IoU: 0.0576 | Val IoU: 0.0000\n",
      "Train Acc: 1.0000 | Val Acc: 1.0000\n"
     ]
    },
    {
     "name": "stderr",
     "output_type": "stream",
     "text": [
      "Epoch 7/20 [Train]: 100%|██████████| 139/139 [01:03<00:00,  2.19it/s]\n",
      "Epoch 7/20 [Val]: 100%|██████████| 2/2 [00:00<00:00,  2.92it/s]\n"
     ]
    },
    {
     "name": "stdout",
     "output_type": "stream",
     "text": [
      "\n",
      "Epoch 7/20:\n",
      "Train Loss: 0.0006 | Val Loss: 0.0005\n",
      "Train IoU: 0.0791 | Val IoU: 0.0000\n",
      "Train Acc: 1.0000 | Val Acc: 1.0000\n"
     ]
    },
    {
     "name": "stderr",
     "output_type": "stream",
     "text": [
      "Epoch 8/20 [Train]: 100%|██████████| 139/139 [01:04<00:00,  2.16it/s]\n",
      "Epoch 8/20 [Val]: 100%|██████████| 2/2 [00:00<00:00,  2.88it/s]\n"
     ]
    },
    {
     "name": "stdout",
     "output_type": "stream",
     "text": [
      "\n",
      "Epoch 8/20:\n",
      "Train Loss: 0.0005 | Val Loss: 0.0004\n",
      "Train IoU: 0.0863 | Val IoU: 0.0000\n",
      "Train Acc: 1.0000 | Val Acc: 1.0000\n"
     ]
    },
    {
     "name": "stderr",
     "output_type": "stream",
     "text": [
      "Epoch 9/20 [Train]: 100%|██████████| 139/139 [01:03<00:00,  2.19it/s]\n",
      "Epoch 9/20 [Val]: 100%|██████████| 2/2 [00:00<00:00,  2.96it/s]\n"
     ]
    },
    {
     "name": "stdout",
     "output_type": "stream",
     "text": [
      "\n",
      "Epoch 9/20:\n",
      "Train Loss: 0.0005 | Val Loss: 0.0004\n",
      "Train IoU: 0.0576 | Val IoU: 0.0000\n",
      "Train Acc: 1.0000 | Val Acc: 1.0000\n"
     ]
    },
    {
     "name": "stderr",
     "output_type": "stream",
     "text": [
      "Epoch 10/20 [Train]: 100%|██████████| 139/139 [01:03<00:00,  2.18it/s]\n",
      "Epoch 10/20 [Val]: 100%|██████████| 2/2 [00:00<00:00,  2.89it/s]\n"
     ]
    },
    {
     "name": "stdout",
     "output_type": "stream",
     "text": [
      "\n",
      "Epoch 10/20:\n",
      "Train Loss: 0.0004 | Val Loss: 0.0004\n",
      "Train IoU: 0.1007 | Val IoU: 0.0000\n",
      "Train Acc: 1.0000 | Val Acc: 1.0000\n"
     ]
    },
    {
     "name": "stderr",
     "output_type": "stream",
     "text": [
      "Epoch 11/20 [Train]: 100%|██████████| 139/139 [01:03<00:00,  2.18it/s]\n",
      "Epoch 11/20 [Val]: 100%|██████████| 2/2 [00:00<00:00,  2.89it/s]\n"
     ]
    },
    {
     "name": "stdout",
     "output_type": "stream",
     "text": [
      "\n",
      "Epoch 11/20:\n",
      "Train Loss: 0.0004 | Val Loss: 0.0003\n",
      "Train IoU: 0.0791 | Val IoU: 0.0000\n",
      "Train Acc: 1.0000 | Val Acc: 1.0000\n"
     ]
    },
    {
     "name": "stderr",
     "output_type": "stream",
     "text": [
      "Epoch 12/20 [Train]: 100%|██████████| 139/139 [01:03<00:00,  2.19it/s]\n",
      "Epoch 12/20 [Val]: 100%|██████████| 2/2 [00:00<00:00,  2.92it/s]\n"
     ]
    },
    {
     "name": "stdout",
     "output_type": "stream",
     "text": [
      "\n",
      "Epoch 12/20:\n",
      "Train Loss: 0.0004 | Val Loss: 0.0003\n",
      "Train IoU: 0.0791 | Val IoU: 0.0000\n",
      "Train Acc: 1.0000 | Val Acc: 1.0000\n"
     ]
    },
    {
     "name": "stderr",
     "output_type": "stream",
     "text": [
      "Epoch 13/20 [Train]: 100%|██████████| 139/139 [01:03<00:00,  2.19it/s]\n",
      "Epoch 13/20 [Val]: 100%|██████████| 2/2 [00:00<00:00,  2.97it/s]\n"
     ]
    },
    {
     "name": "stdout",
     "output_type": "stream",
     "text": [
      "\n",
      "Epoch 13/20:\n",
      "Train Loss: 0.0004 | Val Loss: 0.0003\n",
      "Train IoU: 0.0719 | Val IoU: 0.0000\n",
      "Train Acc: 1.0000 | Val Acc: 1.0000\n"
     ]
    },
    {
     "name": "stderr",
     "output_type": "stream",
     "text": [
      "Epoch 14/20 [Train]: 100%|██████████| 139/139 [01:03<00:00,  2.18it/s]\n",
      "Epoch 14/20 [Val]: 100%|██████████| 2/2 [00:00<00:00,  2.93it/s]\n"
     ]
    },
    {
     "name": "stdout",
     "output_type": "stream",
     "text": [
      "\n",
      "Epoch 14/20:\n",
      "Train Loss: 0.0004 | Val Loss: 0.0003\n",
      "Train IoU: 0.0863 | Val IoU: 0.0000\n",
      "Train Acc: 1.0000 | Val Acc: 1.0000\n"
     ]
    },
    {
     "name": "stderr",
     "output_type": "stream",
     "text": [
      "Epoch 15/20 [Train]: 100%|██████████| 139/139 [01:03<00:00,  2.18it/s]\n",
      "Epoch 15/20 [Val]: 100%|██████████| 2/2 [00:00<00:00,  2.91it/s]\n"
     ]
    },
    {
     "name": "stdout",
     "output_type": "stream",
     "text": [
      "\n",
      "Epoch 15/20:\n",
      "Train Loss: 0.0004 | Val Loss: 0.0003\n",
      "Train IoU: 0.0935 | Val IoU: 0.0000\n",
      "Train Acc: 1.0000 | Val Acc: 1.0000\n"
     ]
    },
    {
     "name": "stderr",
     "output_type": "stream",
     "text": [
      "Epoch 16/20 [Train]: 100%|██████████| 139/139 [01:03<00:00,  2.18it/s]\n",
      "Epoch 16/20 [Val]: 100%|██████████| 2/2 [00:00<00:00,  2.90it/s]\n"
     ]
    },
    {
     "name": "stdout",
     "output_type": "stream",
     "text": [
      "\n",
      "Epoch 16/20:\n",
      "Train Loss: 0.0003 | Val Loss: 0.0003\n",
      "Train IoU: 0.1007 | Val IoU: 0.0000\n",
      "Train Acc: 1.0000 | Val Acc: 1.0000\n"
     ]
    },
    {
     "name": "stderr",
     "output_type": "stream",
     "text": [
      "Epoch 17/20 [Train]: 100%|██████████| 139/139 [01:03<00:00,  2.18it/s]\n",
      "Epoch 17/20 [Val]: 100%|██████████| 2/2 [00:00<00:00,  2.88it/s]\n"
     ]
    },
    {
     "name": "stdout",
     "output_type": "stream",
     "text": [
      "\n",
      "Epoch 17/20:\n",
      "Train Loss: 0.0003 | Val Loss: 0.0003\n",
      "Train IoU: 0.0791 | Val IoU: 0.0000\n",
      "Train Acc: 1.0000 | Val Acc: 1.0000\n"
     ]
    },
    {
     "name": "stderr",
     "output_type": "stream",
     "text": [
      "Epoch 18/20 [Train]: 100%|██████████| 139/139 [01:04<00:00,  2.17it/s]\n",
      "Epoch 18/20 [Val]: 100%|██████████| 2/2 [00:00<00:00,  2.92it/s]\n"
     ]
    },
    {
     "name": "stdout",
     "output_type": "stream",
     "text": [
      "\n",
      "Epoch 18/20:\n",
      "Train Loss: 0.0003 | Val Loss: 0.0003\n",
      "Train IoU: 0.0863 | Val IoU: 0.0000\n",
      "Train Acc: 1.0000 | Val Acc: 1.0000\n"
     ]
    },
    {
     "name": "stderr",
     "output_type": "stream",
     "text": [
      "Epoch 19/20 [Train]: 100%|██████████| 139/139 [01:03<00:00,  2.19it/s]\n",
      "Epoch 19/20 [Val]: 100%|██████████| 2/2 [00:00<00:00,  2.92it/s]\n"
     ]
    },
    {
     "name": "stdout",
     "output_type": "stream",
     "text": [
      "\n",
      "Epoch 19/20:\n",
      "Train Loss: 0.0003 | Val Loss: 0.0003\n",
      "Train IoU: 0.1151 | Val IoU: 0.0000\n",
      "Train Acc: 1.0000 | Val Acc: 1.0000\n"
     ]
    },
    {
     "name": "stderr",
     "output_type": "stream",
     "text": [
      "Epoch 20/20 [Train]: 100%|██████████| 139/139 [01:03<00:00,  2.20it/s]\n",
      "Epoch 20/20 [Val]: 100%|██████████| 2/2 [00:00<00:00,  2.91it/s]\n"
     ]
    },
    {
     "name": "stdout",
     "output_type": "stream",
     "text": [
      "\n",
      "Epoch 20/20:\n",
      "Train Loss: 0.0003 | Val Loss: 0.0003\n",
      "Train IoU: 0.0719 | Val IoU: 0.0000\n",
      "Train Acc: 1.0000 | Val Acc: 1.0000\n"
     ]
    },
    {
     "name": "stderr",
     "output_type": "stream",
     "text": [
      "Testing: 100%|██████████| 7/7 [00:02<00:00,  2.88it/s]\n"
     ]
    },
    {
     "name": "stdout",
     "output_type": "stream",
     "text": [
      "\n",
      "Test Results:\n",
      "Loss: 0.0002 | IoU: 0.2857\n",
      "Accuracy: 1.0000 | Precision: 0.0000 | Recall: 0.0000\n"
     ]
    },
    {
     "data": {
      "image/png": "[encoded data removed]",
      "text/plain": [
       "<Figure size 1800x1200 with 4 Axes>"
      ]
     },
     "metadata": {},
     "output_type": "display_data"
    },
    {
     "name": "stdout",
     "output_type": "stream",
     "text": [
      "Model saved successfully\n"
     ]
    }
   ],
   "source": [
    "print(f\"Using device: {Config.DEVICE}\")\n",
    "model, history = train_model()\n",
    "plot_results(history)\n",
    "    \n",
    "# Сохранение модели\n",
    "torch.save(model.state_dict(), 'road_segmentation_unet.pth')\n",
    "print(\"Model saved successfully\")"
   ]
  }
 ],
 "metadata": {
  "kernelspec": {
   "display_name": "Python 3",
   "language": "python",
   "name": "python3"
  },
  "language_info": {
   "codemirror_mode": {
    "name": "ipython",
    "version": 3
   },
   "file_extension": ".py",
   "mimetype": "text/x-python",
   "name": "python",
   "nbconvert_exporter": "python",
   "pygments_lexer": "ipython3",
   "version": "3.10.12"
  }
 },
 "nbformat": 4,
 "nbformat_minor": 5
}
